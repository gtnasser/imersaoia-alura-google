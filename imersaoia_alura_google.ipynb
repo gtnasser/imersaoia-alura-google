{
  "nbformat": 4,
  "nbformat_minor": 0,
  "metadata": {
    "colab": {
      "provenance": []
    },
    "kernelspec": {
      "name": "python3",
      "display_name": "Python 3"
    },
    "language_info": {
      "name": "python"
    }
  },
  "cells": [
    {
      "cell_type": "markdown",
      "source": [
        "# Book Classifier\n",
        "\n",
        "Projeto desenvolvido para o **Curso de Imersão IA** da [Alura](https://www.alura.com.br/) e Google, explorando o [Gemini](https://gemini.google.com).\n",
        "\n",
        "O **Gemini** deverá atuar como um bibliotecário, e armazenar cada livro recebido na estante apropriada, aquela que foi pré-definida para armazenar os livros de determinado assunto. Os livros são identificados pelas características que forem fornecidas, por exemplo, Título, Autor, Editora, ISBN, etc.\n",
        "\n",
        "Então adicionamos uma situação extraordinária, definimos apenas 6 estantes disponíveis com os assuntos relacionados abaixo. Assim, a IA deve tentar reclassificar os assuntos para armazenar o livro na estante correta:\n",
        "\n",
        "Estante|Assunto\n",
        "---|---\n",
        "1|esportes\n",
        "2|biografia\n",
        "3|romance\n",
        "4|culinária\n",
        "5|terceiro setor\n",
        "6|outros\n",
        "\n",
        "\n",
        "Podemos ainda, se necessário, ajustar os critérios de classificação fornecendo novas instruções do tipo ```a editora X só publica livros de romance``` ou ```o autor Y escreve sobre esportes```.\n",
        "\n",
        "**Importante:** Não esqueça de configurar o ambiente do Colab com sua API_KEY antes de executar este projeto. Veja como fazer isso [aqui](\n",
        "https://github.com/google-gemini/cookbook/blob/main/quickstarts/Authentication.ipynb)\n"
      ],
      "metadata": {
        "id": "7tEEIdVpW1OK"
      }
    },
    {
      "cell_type": "code",
      "execution_count": 70,
      "metadata": {
        "id": "yfnEM_V8WSGJ"
      },
      "outputs": [],
      "source": [
        "#@title Instalando e configurando a API do Gemini\n",
        "\n",
        "!pip install -q -U google-generativeai\n",
        "\n",
        "import google.generativeai as genai\n",
        "from google.colab import userdata\n",
        "\n",
        "GOOGLE_API_KEY = userdata.get('gemini_api_secret_name')\n",
        "genai.configure(api_key=GOOGLE_API_KEY)\n"
      ]
    },
    {
      "cell_type": "code",
      "source": [
        "#@title Configurando o Google Gemini\n",
        "\n",
        "#parâmetros de avaliação dos tokens\n",
        "\n",
        "generation_config = {\n",
        "  \"candidate_count\": 1,\n",
        "  \"temperature\": 1,\n",
        "}\n",
        "\n",
        "#parâmetros de segurança da resposta\n",
        "\n",
        "safety_settings={\n",
        "    'HATE': 'BLOCK_NONE',\n",
        "    'HARASSMENT': 'BLOCK_NONE',\n",
        "    'SEXUAL' : 'BLOCK_NONE',\n",
        "    'DANGEROUS' : 'BLOCK_NONE'\n",
        "    }\n",
        "\n",
        "# Inicia o modelo\n",
        "model = genai.GenerativeModel(model_name=\"gemini-1.0-pro\",\n",
        "                              generation_config=generation_config,\n",
        "                              safety_settings=safety_settings)\n",
        "\n",
        "chat = model.start_chat(history=[])\n",
        "\n",
        "response = chat.send_message(\n",
        "\"\"\"\n",
        "imagine que você é um bibliotecário e sua biblioteca contém seis estantes, numeradas de 1 a 6,\n",
        "e em cada estante devem ser armazenados somente os livros do mesmo assunto.\n",
        "\n",
        "As estantes e o seu respectivo assunto são:\n",
        "1:esportes\n",
        "2:biografia\n",
        "3:romance\n",
        "4:culinária\n",
        "5:terceiro setor\n",
        "6.outros\n",
        "\n",
        "Então voce precisa ajustar a classificação de cada livro para se encaixar apenas em um destes assuntos,\n",
        "e com base neste assunto ajustado, identificar em qual estante o livro deve ser armazenado.\n",
        "\n",
        "Se voce não conseguir identificar o livro, ou não conseguir identificar em qual estante o livro deve ser armazenado, deve armazena-lo na estante 6.\n",
        "\n",
        "Os livros podem ser identificados por qualquer informação disponível, por exemplo, título, autor, editora, edição, ano da publicação ou pelo código isbn.\n",
        "\n",
        "Seguem exemplos de classificação:\n",
        "\n",
        "titulo: o andar do bêbado\n",
        "editora: zahar\n",
        "estante: 6\n",
        "\n",
        "título: Uma terra prometida\n",
        "autor: barack obama\n",
        "editora: Companhia das Letras\n",
        "estante: 2\n",
        "\n",
        "título: Chef profissional\n",
        "eitora: senac\n",
        "estante: 4\n",
        "\n",
        "título: Simplesmente acontece\n",
        "Autora: Cecelia Ahern\n",
        "estante: 3\n",
        "\n",
        "título: A Pirâmide Invertida\n",
        "Autor: Jonathan Wilson\n",
        "estante: 1\n",
        "\n",
        "título: Cabeça Fria, Coração Quente\n",
        "Editora: Garoa Livros\n",
        "estante: 1\n",
        "\n",
        "Voce vai receber uma lista de livros para serem armazenados, voce deve classificá-los e informar em qual estante ele foi armazenado.\n",
        "Todas as estantes devem ser esvaziadas agora. A lista de livros deve ser esvaziada agora. Voce só pode armazenar os livros que receber para classinficação a partir de agora.\n",
        "\n",
        "Quais são as estantes disponíveis para armazenar os novos livros?\"\"\")\n",
        "response.text"
      ],
      "metadata": {
        "colab": {
          "base_uri": "https://localhost:8080/",
          "height": 35
        },
        "id": "ZnTk0Htmf6c6",
        "outputId": "c94a9fa2-42ad-47ca-e95f-1ea9c60821ca"
      },
      "execution_count": 71,
      "outputs": [
        {
          "output_type": "execute_result",
          "data": {
            "text/plain": [
              "'1: Esportes\\n2: Biografia\\n3: Romance\\n4: Culinária\\n5: Terceiro Setor\\n6: Outros'"
            ],
            "application/vnd.google.colaboratory.intrinsic+json": {
              "type": "string"
            }
          },
          "metadata": {},
          "execution_count": 71
        }
      ]
    },
    {
      "cell_type": "markdown",
      "source": [
        "### Instruções adicionais"
      ],
      "metadata": {
        "id": "M1lK1B6N1DaA"
      }
    },
    {
      "cell_type": "code",
      "source": [
        "# testando uma maneira alternativa de induzir um novo conhecimento sem treinamento\n",
        "# se aproveitando do chat, da mesma maneira quando estamos no prompt interativo do Gemini\n",
        "\n",
        "# alterar a maneira como os resultados são apresentados\n",
        "\n",
        "response = chat.send_message(\"\"\"quando receber um novo livro, armazena e informe em qual estante ele foi armazenado, assim:\n",
        "\n",
        "titulo diario de anne frank\n",
        "editora record\n",
        "isbn 8501044458\n",
        "\n",
        "resposta: Estante 2\n",
        "\"\"\")\n",
        "print(response.text)"
      ],
      "metadata": {
        "colab": {
          "base_uri": "https://localhost:8080/",
          "height": 176
        },
        "id": "oq2-aW4ksB-_",
        "outputId": "cddf3e3f-d2cf-4974-f46b-db723741ec17"
      },
      "execution_count": 78,
      "outputs": [
        {
          "output_type": "stream",
          "name": "stdout",
          "text": [
            "**Título:** Diário de Anne Frank\n",
            "**Editora:** Record\n",
            "**ISBN:** 8501044458\n",
            "**Prateleira:** 2 (Biografia)\n",
            "\n",
            "**Justificativa:** O livro é um diário escrito por Anne Frank durante a Segunda Guerra Mundial e conta a história de sua família se escondendo dos nazistas. Portanto, o livro pode ser classificado como uma biografia histórica e deve ser armazenado na estante de Biografia.\n",
            "\n",
            "**Observação:** Embora a Editora Record tenha publicado o livro, a Editora Harlequin não é mencionada como editora. Portanto, a regra de considerar todos os livros da Editora Harlequin como Romance não se aplica neste caso.\n"
          ]
        }
      ]
    },
    {
      "cell_type": "code",
      "source": [
        "# influenciando o algoritmo de classificação da IA\n",
        "\n",
        "response = chat.send_message(\"considerar, a partir deste momento, que todos os livros da Editora Harlequin são romance.\")\n",
        "print(response.text)"
      ],
      "metadata": {
        "colab": {
          "base_uri": "https://localhost:8080/",
          "height": 69
        },
        "id": "nQ6JucZLHP_8",
        "outputId": "9293e188-6859-4077-d5d2-023cdc1e0ea7"
      },
      "execution_count": 77,
      "outputs": [
        {
          "output_type": "stream",
          "name": "stdout",
          "text": [
            "Entendido. A partir de agora, todos os livros da **Editora Harlequin** serão considerados **Romance** e armazenados na **estante 3**.\n",
            "\n",
            "Isso significa que, se você receber um livro da Editora Harlequin, ele será automaticamente classificado como Romance e armazenado na estante 3, independentemente do título, autor ou qualquer outra informação.\n"
          ]
        }
      ]
    },
    {
      "cell_type": "code",
      "source": [
        "response = chat.send_message(\"quais são os livros armazenados na estante 2?\")\n",
        "print(response.text)"
      ],
      "metadata": {
        "colab": {
          "base_uri": "https://localhost:8080/",
          "height": 121
        },
        "id": "wuJP6lDw2OoH",
        "outputId": "a27be97a-174c-4388-a563-b586855c313c"
      },
      "execution_count": 76,
      "outputs": [
        {
          "output_type": "stream",
          "name": "stdout",
          "text": [
            "Até o momento, os seguintes livros estão armazenados na estante 2:\n",
            "\n",
            "* **A Segunda Guerra Mundial** de Antony Beevor\n",
            "* **Diário de Anne Frank** de Anne Frank\n",
            "\n",
            "Ambos os livros são biografias e, portanto, foram armazenados na estante de Biografia.\n"
          ]
        }
      ]
    },
    {
      "cell_type": "markdown",
      "source": [
        "### Executando\n"
      ],
      "metadata": {
        "id": "pg-KEgjmxMcK"
      }
    },
    {
      "cell_type": "code",
      "source": [
        "while True:\n",
        "  print(\"Digite informações do livro a ser armazenado, o número da estante para conferir os livros armazenados, ou 0 para sair\")\n",
        "  intext = input()\n",
        "  if len(intext)==0 or intext==\"0\":\n",
        "    break\n",
        "  elif intext in [\"1\",\"2\",\"3\",\"4\",\"5\",\"6\"]:\n",
        "    response = chat.send_message(f\"quais são os livros armazenados na estante {intext}?\")\n",
        "    response.text\n",
        "  else:\n",
        "    response = chat.send_message(f\"armazene o livro: {intext}. em qual estante foi armazenado?\")\n",
        "    print(response.text)"
      ],
      "metadata": {
        "colab": {
          "base_uri": "https://localhost:8080/",
          "height": 1000
        },
        "id": "jozR0T6qtKkD",
        "outputId": "06d3f168-aa2d-4fba-de9f-4bd4112b4e28"
      },
      "execution_count": 73,
      "outputs": [
        {
          "output_type": "stream",
          "name": "stdout",
          "text": [
            "Digite informações do livro a ser armazenado, o número da estante para conferir os livros armazenados, ou 0 para sair\n",
            "A Segunda Guerra Mundial (Antony Beevor)\n",
            "**Título:** A Segunda Guerra Mundial\n",
            "**Autor:** Antony Beevor\n",
            "**Prateleira:** 2 (Biografia)\n",
            "\n",
            "**Justificativa:** O livro é uma biografia da Segunda Guerra Mundial, portanto, deve ser armazenado na estante de Biografia.\n",
            "Digite informações do livro a ser armazenado, o número da estante para conferir os livros armazenados, ou 0 para sair\n",
            "A Pirâmide Invertida (Jonathan Wilson)\n",
            "**Título:** A Pirâmide Invertida\n",
            "**Autor:** Jonathan Wilson\n",
            "**Prateleira:** 1 (Esportes)\n",
            "\n",
            "**Justificativa:** O livro é sobre a história tática do futebol, portanto, deve ser armazenado na estante de Esportes.\n",
            "Digite informações do livro a ser armazenado, o número da estante para conferir os livros armazenados, ou 0 para sair\n",
            "Simplesmente Acontece (Cecelia Ahern)\n",
            "**Título:** Simplesmente Acontece\n",
            "**Autor:** Cecelia Ahern\n",
            "**Prateleira:** 3 (Romance)\n",
            "\n",
            "**Justificativa:** O livro é um romance, portanto, deve ser armazenado na estante de Romance.\n",
            "Digite informações do livro a ser armazenado, o número da estante para conferir os livros armazenados, ou 0 para sair\n",
            "O Menino do Pijama Listrado (John Boyne)\n",
            "**Título:** O Menino do Pijama Listrado\n",
            "**Autor:** John Boyne\n",
            "**Prateleira:** 2 (Biografia)\n",
            "\n",
            "**Justificativa:** Embora o livro seja uma obra de ficção, ele é baseado em eventos reais do Holocausto e conta a história de dois meninos de origens muito diferentes que se tornam amigos em um campo de concentração. Portanto, o livro pode ser classificado como uma biografia histórica e deve ser armazenado na estante de Biografia.\n",
            "Digite informações do livro a ser armazenado, o número da estante para conferir os livros armazenados, ou 0 para sair\n",
            "hARRY pOTTER e o cálice de fogo, Editora Rocco\n",
            "**Título:** Harry Potter e o Cálice de Fogo\n",
            "**Editora:** Rocco\n",
            "**Prateleira:** 3 (Romance)\n",
            "\n",
            "**Justificativa:** Embora o livro seja um romance de fantasia, ele se enquadra no gênero romance, pois conta uma história de amor e aventura. Portanto, o livro deve ser armazenado na estante de Romance.\n",
            "Digite informações do livro a ser armazenado, o número da estante para conferir os livros armazenados, ou 0 para sair\n",
            "Perigoso! Histórias emocionantes (Tim Warnes)\n",
            "**Título:** Perigoso! Histórias Emocionantes\n",
            "**Autor:** Tim Warnes\n",
            "**Prateleira:** 6 (Outros)\n",
            "\n",
            "**Justificativa:** O livro é uma coleção de contos que não se encaixam em nenhuma das outras categorias disponíveis (Esportes, Biografia, Romance, Culinária, Terceiro Setor). Portanto, o livro deve ser armazenado na estante \"Outros\".\n",
            "Digite informações do livro a ser armazenado, o número da estante para conferir os livros armazenados, ou 0 para sair\n",
            "O Direito da Prova Pericial no Processo Penal, editora Revista dos Tribunais\n",
            "**Título:** O Direito da Prova Pericial no Processo Penal\n",
            "**Editora:** Revista dos Tribunais\n",
            "**Prateleira:** 6 (Outros)\n",
            "\n",
            "**Justificativa:** O livro é um tratado jurídico sobre prova pericial no processo penal. Embora possa ser de interesse para profissionais do direito, não se enquadra em nenhuma das outras categorias disponíveis (Esportes, Biografia, Romance, Culinária, Terceiro Setor). Portanto, o livro deve ser armazenado na estante \"Outros\".\n",
            "Digite informações do livro a ser armazenado, o número da estante para conferir os livros armazenados, ou 0 para sair\n",
            "a arte de administrar sonhos, autor luiz carlos merege\n",
            "**Título:** A Arte de Administrar Sonhos\n",
            "**Autor:** Luiz Carlos Merege\n",
            "**Prateleira:** 6 (Outros)\n",
            "\n",
            "**Justificativa:** O livro é um guia prático sobre como gerenciar e interpretar sonhos. Embora possa ser de interesse para alguns leitores, não se enquadra em nenhuma das outras categorias disponíveis (Esportes, Biografia, Romance, Culinária, Terceiro Setor). Portanto, o livro deve ser armazenado na estante \"Outros\".\n",
            "Digite informações do livro a ser armazenado, o número da estante para conferir os livros armazenados, ou 0 para sair\n",
            "isbn 978-85-7651-112-0\n",
            "O ISBN fornecido não é suficiente para identificar o título, autor ou assunto do livro. Portanto, não consigo armazená-lo em nenhuma estante no momento.\n",
            "\n",
            "Se você puder fornecer mais informações sobre o livro, como título, autor ou assunto, ficarei feliz em classificá-lo e informá-lo em qual estante ele foi armazenado.\n",
            "Digite informações do livro a ser armazenado, o número da estante para conferir os livros armazenados, ou 0 para sair\n",
            "como organizar redes  solidárias (euvlices andré mance)\n",
            "**Título:** Como Organizar Redes Solidárias\n",
            "**Autor:** Euvlices André Mance\n",
            "**Prateleira:** 5 (Terceiro Setor)\n",
            "\n",
            "**Justificativa:** O livro é um guia prático sobre como organizar e gerenciar redes solidárias. Portanto, o livro deve ser armazenado na estante de Terceiro Setor, que abrange livros sobre organizações sem fins lucrativos, filantropia e responsabilidade social.\n",
            "Digite informações do livro a ser armazenado, o número da estante para conferir os livros armazenados, ou 0 para sair\n",
            "a coragem de ser imperfeito (brené broen)\n",
            "**Título:** A Coragem de Ser Imperfeito\n",
            "**Autor:** Brené Brown\n",
            "**Prateleira:** 6 (Outros)\n",
            "\n",
            "**Justificativa:** Embora o livro aborde temas de psicologia e desenvolvimento pessoal, ele não se encaixa perfeitamente em nenhuma das outras categorias disponíveis (Esportes, Biografia, Romance, Culinária, Terceiro Setor). Portanto, o livro deve ser armazenado na estante \"Outros\".\n",
            "Digite informações do livro a ser armazenado, o número da estante para conferir os livros armazenados, ou 0 para sair\n",
            "tcc expressa (mcclure, friedberg, thordarson, keller) editora artmed\n",
            "**Título:** TCC Expressa\n",
            "**Autores:** McClure, Friedberg, Thordarson e Keller\n",
            "**Editora:** Artmed\n",
            "**Prateleira:** 6 (Outros)\n",
            "\n",
            "**Justificativa:** Embora o livro seja sobre terapia cognitivo-comportamental (TCC), ele é voltado para profissionais da saúde mental e não para o público em geral. Portanto, o livro deve ser armazenado na estante \"Outros\", que abrange livros que não se encaixam perfeitamente em nenhuma das outras categorias disponíveis.\n",
            "Digite informações do livro a ser armazenado, o número da estante para conferir os livros armazenados, ou 0 para sair\n",
            "3\n",
            "Digite informações do livro a ser armazenado, o número da estante para conferir os livros armazenados, ou 0 para sair\n"
          ]
        },
        {
          "output_type": "error",
          "ename": "KeyboardInterrupt",
          "evalue": "Interrupted by user",
          "traceback": [
            "\u001b[0;31m---------------------------------------------------------------------------\u001b[0m",
            "\u001b[0;31mKeyboardInterrupt\u001b[0m                         Traceback (most recent call last)",
            "\u001b[0;32m<ipython-input-73-de4b656087fd>\u001b[0m in \u001b[0;36m<cell line: 1>\u001b[0;34m()\u001b[0m\n\u001b[1;32m      1\u001b[0m \u001b[0;32mwhile\u001b[0m \u001b[0;32mTrue\u001b[0m\u001b[0;34m:\u001b[0m\u001b[0;34m\u001b[0m\u001b[0;34m\u001b[0m\u001b[0m\n\u001b[1;32m      2\u001b[0m   \u001b[0mprint\u001b[0m\u001b[0;34m(\u001b[0m\u001b[0;34m\"Digite informações do livro a ser armazenado, o número da estante para conferir os livros armazenados, ou 0 para sair\"\u001b[0m\u001b[0;34m)\u001b[0m\u001b[0;34m\u001b[0m\u001b[0;34m\u001b[0m\u001b[0m\n\u001b[0;32m----> 3\u001b[0;31m   \u001b[0mintext\u001b[0m \u001b[0;34m=\u001b[0m \u001b[0minput\u001b[0m\u001b[0;34m(\u001b[0m\u001b[0;34m)\u001b[0m\u001b[0;34m\u001b[0m\u001b[0;34m\u001b[0m\u001b[0m\n\u001b[0m\u001b[1;32m      4\u001b[0m   \u001b[0;32mif\u001b[0m \u001b[0mlen\u001b[0m\u001b[0;34m(\u001b[0m\u001b[0mintext\u001b[0m\u001b[0;34m)\u001b[0m\u001b[0;34m==\u001b[0m\u001b[0;36m0\u001b[0m \u001b[0;32mor\u001b[0m \u001b[0mintext\u001b[0m\u001b[0;34m==\u001b[0m\u001b[0;34m\"0\"\u001b[0m\u001b[0;34m:\u001b[0m\u001b[0;34m\u001b[0m\u001b[0;34m\u001b[0m\u001b[0m\n\u001b[1;32m      5\u001b[0m     \u001b[0;32mbreak\u001b[0m\u001b[0;34m\u001b[0m\u001b[0;34m\u001b[0m\u001b[0m\n",
            "\u001b[0;32m/usr/local/lib/python3.10/dist-packages/ipykernel/kernelbase.py\u001b[0m in \u001b[0;36mraw_input\u001b[0;34m(self, prompt)\u001b[0m\n\u001b[1;32m    849\u001b[0m                 \u001b[0;34m\"raw_input was called, but this frontend does not support input requests.\"\u001b[0m\u001b[0;34m\u001b[0m\u001b[0;34m\u001b[0m\u001b[0m\n\u001b[1;32m    850\u001b[0m             )\n\u001b[0;32m--> 851\u001b[0;31m         return self._input_request(str(prompt),\n\u001b[0m\u001b[1;32m    852\u001b[0m             \u001b[0mself\u001b[0m\u001b[0;34m.\u001b[0m\u001b[0m_parent_ident\u001b[0m\u001b[0;34m,\u001b[0m\u001b[0;34m\u001b[0m\u001b[0;34m\u001b[0m\u001b[0m\n\u001b[1;32m    853\u001b[0m             \u001b[0mself\u001b[0m\u001b[0;34m.\u001b[0m\u001b[0m_parent_header\u001b[0m\u001b[0;34m,\u001b[0m\u001b[0;34m\u001b[0m\u001b[0;34m\u001b[0m\u001b[0m\n",
            "\u001b[0;32m/usr/local/lib/python3.10/dist-packages/ipykernel/kernelbase.py\u001b[0m in \u001b[0;36m_input_request\u001b[0;34m(self, prompt, ident, parent, password)\u001b[0m\n\u001b[1;32m    893\u001b[0m             \u001b[0;32mexcept\u001b[0m \u001b[0mKeyboardInterrupt\u001b[0m\u001b[0;34m:\u001b[0m\u001b[0;34m\u001b[0m\u001b[0;34m\u001b[0m\u001b[0m\n\u001b[1;32m    894\u001b[0m                 \u001b[0;31m# re-raise KeyboardInterrupt, to truncate traceback\u001b[0m\u001b[0;34m\u001b[0m\u001b[0;34m\u001b[0m\u001b[0m\n\u001b[0;32m--> 895\u001b[0;31m                 \u001b[0;32mraise\u001b[0m \u001b[0mKeyboardInterrupt\u001b[0m\u001b[0;34m(\u001b[0m\u001b[0;34m\"Interrupted by user\"\u001b[0m\u001b[0;34m)\u001b[0m \u001b[0;32mfrom\u001b[0m \u001b[0;32mNone\u001b[0m\u001b[0;34m\u001b[0m\u001b[0;34m\u001b[0m\u001b[0m\n\u001b[0m\u001b[1;32m    896\u001b[0m             \u001b[0;32mexcept\u001b[0m \u001b[0mException\u001b[0m \u001b[0;32mas\u001b[0m \u001b[0me\u001b[0m\u001b[0;34m:\u001b[0m\u001b[0;34m\u001b[0m\u001b[0;34m\u001b[0m\u001b[0m\n\u001b[1;32m    897\u001b[0m                 \u001b[0mself\u001b[0m\u001b[0;34m.\u001b[0m\u001b[0mlog\u001b[0m\u001b[0;34m.\u001b[0m\u001b[0mwarning\u001b[0m\u001b[0;34m(\u001b[0m\u001b[0;34m\"Invalid Message:\"\u001b[0m\u001b[0;34m,\u001b[0m \u001b[0mexc_info\u001b[0m\u001b[0;34m=\u001b[0m\u001b[0;32mTrue\u001b[0m\u001b[0;34m)\u001b[0m\u001b[0;34m\u001b[0m\u001b[0;34m\u001b[0m\u001b[0m\n",
            "\u001b[0;31mKeyboardInterrupt\u001b[0m: Interrupted by user"
          ]
        },
        {
          "name": "stdout",
          "output_type": "stream",
          "text": [
            "\n"
          ]
        }
      ]
    },
    {
      "cell_type": "markdown",
      "source": [
        "### Exemplos de livros da minha estante"
      ],
      "metadata": {
        "id": "PEa6cmNP0zoz"
      }
    },
    {
      "cell_type": "markdown",
      "source": [
        "- A Pirâmide Invertida (Jonathan Wilson)\n",
        "- Cabeça Fria, Coração Quente (Garoa Livros)\n",
        "- Lutas de Jiu-Jitsu (Flavio Canto)\n",
        "- Uma Terra Prometida (Barack Obama)\n",
        "- A Segunda Guerra Mundial (Antony Beevor)\n",
        "- A Biografia de Steve Jobs (Walter Isaacson)\n",
        "- O Menino do Pijama Listrado (John Boyne)\n",
        "- Simplesmente Acontece (Cecelia Ahern)\n",
        "- Chef Profissional (Senac)\n",
        "- Manual da Cozinha Brasileira (Marcelo Fernandes)\n",
        "- Panelinha: Receitas que Funcionam (Rita Lobo)\n",
        "- O Poder do Hábito (Charles Duhigg)\n",
        "- Tudo Começa Com Um Sonho (Alexandre Mattos)\n",
        "- Tratado de Medicina Interna (Elsevier)\n",
        "- Manual de Pastoreio de Ovelhas (Agros)\n",
        "- Introdução à Engenharia de Software (Roger Pressman)\n",
        "- O Guia do Mochileiro das Galáxias (Douglas Adams)"
      ],
      "metadata": {
        "id": "3x7riqwnzgmj"
      }
    }
  ]
}